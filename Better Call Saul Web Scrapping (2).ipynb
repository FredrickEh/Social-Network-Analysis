{
 "cells": [
  {
   "cell_type": "code",
   "execution_count": 32,
   "id": "1fa3de63",
   "metadata": {},
   "outputs": [],
   "source": [
    "import os\n",
    "import re\n",
    "import time\n",
    "\n",
    "import shutil\n",
    "import requests\n",
    "\n",
    "import numpy as np\n",
    "import pandas as pd\n",
    "from tqdm import tqdm\n",
    "\n",
    "from bs4 import BeautifulSoup as bs\n",
    "\n",
    "from selenium import webdriver\n",
    "from selenium.webdriver.common.by import By\n",
    "from webdriver_manager.core.os_manager import ChromeType\n",
    "from webdriver_manager.chrome import ChromeDriverManager\n",
    "from selenium.webdriver.chrome.service import Service as ChromiumService"
   ]
  },
  {
   "cell_type": "code",
   "execution_count": 33,
   "id": "c201cb05",
   "metadata": {},
   "outputs": [],
   "source": [
    "# Ensuring empty directory is created\n",
    "\n",
    "if os.path.isdir('data'):\n",
    "    shutil.rmtree('data')\n",
    "os.makedirs('data/summaries')"
   ]
  },
  {
   "cell_type": "code",
   "execution_count": 34,
   "id": "726fad8e",
   "metadata": {},
   "outputs": [],
   "source": [
    "# selenium 4\n",
    "from selenium import webdriver\n",
    "from selenium.webdriver.chrome.service import Service as ChromeService\n",
    "from webdriver_manager.chrome import ChromeDriverManager\n",
    "\n",
    "driver = webdriver.Chrome(service=ChromeService(ChromeDriverManager().install()))\n",
    "\n"
   ]
  },
  {
   "cell_type": "code",
   "execution_count": 35,
   "id": "4380fbc1",
   "metadata": {},
   "outputs": [],
   "source": [
    "# Parsing website skelton to bs4 object\n",
    "\n",
    "BASE_URL = 'https://breakingbad.fandom.com' \n",
    "\n",
    "r = requests.get(BASE_URL + '/wiki/Category:Seasons_(Better_Call_Saul)')\n",
    "\n",
    "soup = bs(r.content, 'lxml')"
   ]
  },
  {
   "cell_type": "code",
   "execution_count": 36,
   "id": "9ddf6a37",
   "metadata": {},
   "outputs": [
    {
     "name": "stdout",
     "output_type": "stream",
     "text": [
      "Season 1 (Better Call Saul) :: https://breakingbad.fandom.com/wiki/Season_1_(Better_Call_Saul)\n",
      "Season 2 (Better Call Saul) :: https://breakingbad.fandom.com/wiki/Season_2_(Better_Call_Saul)\n",
      "Season 3 (Better Call Saul) :: https://breakingbad.fandom.com/wiki/Season_3_(Better_Call_Saul)\n",
      "Season 4 (Better Call Saul) :: https://breakingbad.fandom.com/wiki/Season_4_(Better_Call_Saul)\n",
      "Season 5 (Better Call Saul) :: https://breakingbad.fandom.com/wiki/Season_5_(Better_Call_Saul)\n",
      "Season 6 (Better Call Saul) :: https://breakingbad.fandom.com/wiki/Season_6_(Better_Call_Saul)\n"
     ]
    }
   ],
   "source": [
    "# Generating links to each seasons web page\n",
    "\n",
    "all_items_S = soup.find_all('div', class_ = 'category-page__members-wrapper')[-1]\n",
    "season_list = all_items_S.find_all('li', class_ = 'category-page__member')\n",
    "\n",
    "season_link = []\n",
    "\n",
    "for season in season_list:\n",
    "    season_link.append((season.find('a').get('title'), BASE_URL + season.find('a').get('href')))\n",
    "\n",
    "for sea, link in season_link:\n",
    "    print(f'{sea} :: {link}')"
   ]
  },
  {
   "cell_type": "code",
   "execution_count": 37,
   "id": "acf59b9a",
   "metadata": {},
   "outputs": [],
   "source": [
    "# https://pypi.org/project/webdriver-manager/\n",
    "\n",
    "def call_webdriver():\n",
    "    \n",
    "    return webdriver.Chrome(service=ChromeService(ChromeDriverManager().install()))"
   ]
  },
  {
   "cell_type": "code",
   "execution_count": 38,
   "id": "b9e276aa",
   "metadata": {},
   "outputs": [],
   "source": [
    "def get_summmary(episode_link, season_name):\n",
    "    \n",
    "    driver = call_webdriver()\n",
    "    driver.minimize_window()\n",
    "    driver.get(episode_link)\n",
    "    time.sleep(5)\n",
    "    all_para = driver.find_elements(By.XPATH, '//*[@id=\"mw-content-text\"]/div/h3[1]//following::p')\n",
    "    \n",
    "    with open(f'data/summaries/{season_name}.txt', 'a') as file:\n",
    "        for para in all_para:\n",
    "            if para.aria_role =='paragraph':\n",
    "                file.write(para.text + '\\n')\n",
    "                \n",
    "    # list_para = [para.text for para in all_para if para.aria_role =='paragraph']\n",
    "    driver.close()\n",
    "    # return list_para"
   ]
  },
  {
   "cell_type": "code",
   "execution_count": 39,
   "id": "42cc1d3d",
   "metadata": {},
   "outputs": [],
   "source": [
    "def get_starring(episode_link):\n",
    "    \n",
    "    r = requests.get(episode_link)\n",
    "    soup = bs(r.content, 'lxml')\n",
    "    \n",
    "    starring_block = soup.find('div', class_ = 'tabber wds-tabber')\n",
    "    charactres_class = starring_block.find_all('div', class_ = 'wds-tab__content')\n",
    "\n",
    "    # for char in charactres_class:\n",
    "    #     for ch in char.select('li'):\n",
    "    #         print(ch.text)\n",
    "        \n",
    "    starrings = [ch.text for char in charactres_class for ch in char.select('li')]\n",
    "        \n",
    "    # starrings = [star.text for star in soup.select('div.tabber.wds-tabber table li')]\n",
    "    \n",
    "    # for char in starrings:\n",
    "    #     print(char.text)\n",
    "    \n",
    "    return starrings"
   ]
  },
  {
   "cell_type": "code",
   "execution_count": 41,
   "id": "fcc05790",
   "metadata": {},
   "outputs": [
    {
     "name": "stderr",
     "output_type": "stream",
     "text": [
      "100%|███████████████████████████████████████████████████████████████████████████████████| 6/6 [20:49<00:00, 208.24s/it]"
     ]
    },
    {
     "name": "stdout",
     "output_type": "stream",
     "text": [
      "Number of episodes recoreded   :: 63\n"
     ]
    },
    {
     "name": "stderr",
     "output_type": "stream",
     "text": [
      "\n"
     ]
    }
   ],
   "source": [
    "episode_links, characters = {}, {}\n",
    "\n",
    "for season, link in tqdm(season_link):\n",
    "    \n",
    "    r = requests.get(link)\n",
    "\n",
    "    soup = bs(r.content, 'lxml')\n",
    "    episodes = ['https://breakingbad.fandom.com' + x.find('a').get('href') for x in soup.select('#gallery-0 div.thumb')]\n",
    "    \n",
    "    season = season.split(' (')[0].replace(' ', '_')\n",
    "    episode_links[season] = episodes\n",
    "    \n",
    "    characts = []\n",
    "    \n",
    "    for episode in episodes:\n",
    "        get_summmary(episode, season)\n",
    "        characts.append(get_starring(episode))\n",
    "        \n",
    "    characters[season] = list(np.concatenate(characts))\n",
    "    \n",
    "    # cnt += len(episodes)\n",
    "    # break\n",
    "        \n",
    "print(f'Number of episodes recoreded   :: {np.concatenate(list(episode_links.values())).shape[0]}')"
   ]
  },
  {
   "cell_type": "code",
   "execution_count": 42,
   "id": "52616ca2",
   "metadata": {},
   "outputs": [],
   "source": [
    "# Saving episodes link to a text file for future needs\n",
    "\n",
    "with open('data/bcs_season_nd_episode_links.txt', 'w') as file:\n",
    "        file.write(str(episode_links))\n"
   ]
  },
  {
   "cell_type": "code",
   "execution_count": 45,
   "id": "8558f8ea",
   "metadata": {},
   "outputs": [],
   "source": [
    "Season_1 = ['Season_1'] * len(characters['Season_1'])\n",
    "Season_2 = ['Season_2'] * len(characters['Season_2'])\n",
    "Season_3 = ['Season_3'] * len(characters['Season_3'])\n",
    "Season_4 = ['Season_4'] * len(characters['Season_4'])\n",
    "Season_5 = ['Season_5'] * len(characters['Season_5'])\n",
    "Season_6 = ['Season_6'] * len(characters['Season_6'])\n",
    "\n",
    "seas = Season_1 + Season_2 + Season_3 + Season_4 + Season_5 + Season_6\n",
    "\n",
    "chars = characters['Season_1'] + characters['Season_2'] + characters['Season_3'] + characters['Season_4'] + characters['Season_5'] + characters['Season_6']"
   ]
  },
  {
   "cell_type": "code",
   "execution_count": 46,
   "id": "afe1ef02",
   "metadata": {},
   "outputs": [
    {
     "data": {
      "text/html": [
       "<div>\n",
       "<style scoped>\n",
       "    .dataframe tbody tr th:only-of-type {\n",
       "        vertical-align: middle;\n",
       "    }\n",
       "\n",
       "    .dataframe tbody tr th {\n",
       "        vertical-align: top;\n",
       "    }\n",
       "\n",
       "    .dataframe thead th {\n",
       "        text-align: right;\n",
       "    }\n",
       "</style>\n",
       "<table border=\"1\" class=\"dataframe\">\n",
       "  <thead>\n",
       "    <tr style=\"text-align: right;\">\n",
       "      <th></th>\n",
       "      <th>Season</th>\n",
       "      <th>Characters</th>\n",
       "    </tr>\n",
       "  </thead>\n",
       "  <tbody>\n",
       "    <tr>\n",
       "      <th>0</th>\n",
       "      <td>Season_1</td>\n",
       "      <td>Bob Odenkirk as Jimmy McGill</td>\n",
       "    </tr>\n",
       "    <tr>\n",
       "      <th>1</th>\n",
       "      <td>Season_1</td>\n",
       "      <td>Jonathan Banks as Mike Ehrmantraut</td>\n",
       "    </tr>\n",
       "    <tr>\n",
       "      <th>2</th>\n",
       "      <td>Season_1</td>\n",
       "      <td>Rhea Seehorn as Kim Wexler</td>\n",
       "    </tr>\n",
       "    <tr>\n",
       "      <th>3</th>\n",
       "      <td>Season_1</td>\n",
       "      <td>Patrick Fabian as Howard Hamlin</td>\n",
       "    </tr>\n",
       "    <tr>\n",
       "      <th>4</th>\n",
       "      <td>Season_1</td>\n",
       "      <td>Michael Mando as Nacho Varga (credit only)</td>\n",
       "    </tr>\n",
       "  </tbody>\n",
       "</table>\n",
       "</div>"
      ],
      "text/plain": [
       "     Season                                  Characters\n",
       "0  Season_1                Bob Odenkirk as Jimmy McGill\n",
       "1  Season_1          Jonathan Banks as Mike Ehrmantraut\n",
       "2  Season_1                  Rhea Seehorn as Kim Wexler\n",
       "3  Season_1             Patrick Fabian as Howard Hamlin\n",
       "4  Season_1  Michael Mando as Nacho Varga (credit only)"
      ]
     },
     "execution_count": 46,
     "metadata": {},
     "output_type": "execute_result"
    }
   ],
   "source": [
    "character_df1 = pd.DataFrame({'Season' : seas, 'Characters' : chars})\n",
    "character_df1.to_csv('data/character_df1.csv', index = False)\n",
    "character_df1.head()"
   ]
  },
  {
   "cell_type": "code",
   "execution_count": 47,
   "id": "e9321d97",
   "metadata": {},
   "outputs": [
    {
     "name": "stdout",
     "output_type": "stream",
     "text": [
      "Number of Characters recorded per season\n",
      "----------------------------------------\n"
     ]
    },
    {
     "data": {
      "text/plain": [
       "Season\n",
       "Season_1    228\n",
       "Season_2    281\n",
       "Season_3    282\n",
       "Season_4    336\n",
       "Season_5    304\n",
       "Season_6    389\n",
       "Name: count, dtype: int64"
      ]
     },
     "execution_count": 47,
     "metadata": {},
     "output_type": "execute_result"
    }
   ],
   "source": [
    "print('Number of Characters recorded per season'); print('-' * 40)\n",
    "character_df1.Season.value_counts(sort = False)"
   ]
  },
  {
   "cell_type": "code",
   "execution_count": 48,
   "id": "3f88fcf0",
   "metadata": {},
   "outputs": [],
   "source": [
    "# Cleaning character_df : Removing and stripping unwanted characters\n",
    "\n",
    "character_df1.Characters = character_df1.Characters.apply(lambda x : re.sub(u'\\xa0', u' ', x).strip()) # https://stackoverflow.com/a/11566398\n",
    "character_df1.Characters = character_df1.Characters.apply(lambda x : re.sub(r'\\t', ' ', x).strip())\n",
    "character_df1.Characters = character_df1.Characters.apply(lambda x : x.split(' as ')[-1].strip())\n",
    "character_df1.Characters = character_df1.Characters.apply(lambda x : re.sub(r'^as\\s', ' ', x).strip())"
   ]
  },
  {
   "cell_type": "code",
   "execution_count": 49,
   "id": "e5adad1e",
   "metadata": {},
   "outputs": [
    {
     "name": "stdout",
     "output_type": "stream",
     "text": [
      "Prosecutor\n",
      "Defendant #1\n",
      "Jimmy McGill\n",
      "Judge Matlof\n"
     ]
    }
   ],
   "source": [
    "for idx in [19, 20, 32, 1230]:\n",
    "    print(character_df1.iloc[idx][1])"
   ]
  },
  {
   "cell_type": "code",
   "execution_count": 50,
   "id": "2cdbc4b7",
   "metadata": {},
   "outputs": [],
   "source": [
    "# Processing character names\n",
    "\n",
    "character_df1.Characters = character_df1.Characters.apply(lambda x : re.sub(r'#\\d*', ' ', x).strip()) # Removing '#' from name\n",
    "character_df1.Characters = character_df1.Characters.apply(lambda x : re.sub(r'\\(.*\\)', ' ', x).strip()) # Removing '()' and text inside those\n",
    "character_df1.Characters = character_df1.Characters.apply(lambda x : re.sub(r'CarWash Patron', 'Car Wash Patron', x).strip())\n",
    "character_df1.Characters = character_df1.Characters.apply(lambda x : re.sub('\\s+', ' ', x).strip()) # Removing unwanted extra white spaces"
   ]
  },
  {
   "cell_type": "code",
   "execution_count": 51,
   "id": "7a952f49",
   "metadata": {},
   "outputs": [
    {
     "name": "stdout",
     "output_type": "stream",
     "text": [
      "Total number of characters\t\t:: 1820\n",
      "Total number of unique characters\t:: 737\n"
     ]
    }
   ],
   "source": [
    "print(f'Total number of characters\\t\\t:: {len(character_df1.Characters)}')\n",
    "print(f'Total number of unique characters\\t:: {character_df1.Characters.nunique()}')"
   ]
  },
  {
   "cell_type": "code",
   "execution_count": 52,
   "id": "8213f243",
   "metadata": {},
   "outputs": [
    {
     "data": {
      "text/html": [
       "<div>\n",
       "<style scoped>\n",
       "    .dataframe tbody tr th:only-of-type {\n",
       "        vertical-align: middle;\n",
       "    }\n",
       "\n",
       "    .dataframe tbody tr th {\n",
       "        vertical-align: top;\n",
       "    }\n",
       "\n",
       "    .dataframe thead th {\n",
       "        text-align: right;\n",
       "    }\n",
       "</style>\n",
       "<table border=\"1\" class=\"dataframe\">\n",
       "  <thead>\n",
       "    <tr style=\"text-align: right;\">\n",
       "      <th></th>\n",
       "      <th>Season</th>\n",
       "      <th>Characters</th>\n",
       "    </tr>\n",
       "  </thead>\n",
       "  <tbody>\n",
       "    <tr>\n",
       "      <th>0</th>\n",
       "      <td>Season_1</td>\n",
       "      <td>Jimmy McGill</td>\n",
       "    </tr>\n",
       "    <tr>\n",
       "      <th>1</th>\n",
       "      <td>Season_1</td>\n",
       "      <td>Mike Ehrmantraut</td>\n",
       "    </tr>\n",
       "    <tr>\n",
       "      <th>2</th>\n",
       "      <td>Season_1</td>\n",
       "      <td>Kim Wexler</td>\n",
       "    </tr>\n",
       "    <tr>\n",
       "      <th>3</th>\n",
       "      <td>Season_1</td>\n",
       "      <td>Howard Hamlin</td>\n",
       "    </tr>\n",
       "    <tr>\n",
       "      <th>4</th>\n",
       "      <td>Season_1</td>\n",
       "      <td>Nacho Varga</td>\n",
       "    </tr>\n",
       "  </tbody>\n",
       "</table>\n",
       "</div>"
      ],
      "text/plain": [
       "     Season        Characters\n",
       "0  Season_1      Jimmy McGill\n",
       "1  Season_1  Mike Ehrmantraut\n",
       "2  Season_1        Kim Wexler\n",
       "3  Season_1     Howard Hamlin\n",
       "4  Season_1       Nacho Varga"
      ]
     },
     "execution_count": 52,
     "metadata": {},
     "output_type": "execute_result"
    }
   ],
   "source": [
    "character_df1.head()"
   ]
  },
  {
   "cell_type": "code",
   "execution_count": 53,
   "id": "590e4661",
   "metadata": {},
   "outputs": [
    {
     "data": {
      "text/html": [
       "<div>\n",
       "<style scoped>\n",
       "    .dataframe tbody tr th:only-of-type {\n",
       "        vertical-align: middle;\n",
       "    }\n",
       "\n",
       "    .dataframe tbody tr th {\n",
       "        vertical-align: top;\n",
       "    }\n",
       "\n",
       "    .dataframe thead th {\n",
       "        text-align: right;\n",
       "    }\n",
       "</style>\n",
       "<table border=\"1\" class=\"dataframe\">\n",
       "  <thead>\n",
       "    <tr style=\"text-align: right;\">\n",
       "      <th></th>\n",
       "      <th>Season</th>\n",
       "      <th>Characters</th>\n",
       "    </tr>\n",
       "  </thead>\n",
       "  <tbody>\n",
       "    <tr>\n",
       "      <th>1815</th>\n",
       "      <td>Season_6</td>\n",
       "      <td>Face Bandage Inmate</td>\n",
       "    </tr>\n",
       "    <tr>\n",
       "      <th>1816</th>\n",
       "      <td>Season_6</td>\n",
       "      <td>Squinty Inmate</td>\n",
       "    </tr>\n",
       "    <tr>\n",
       "      <th>1817</th>\n",
       "      <td>Season_6</td>\n",
       "      <td>Bakery Inmate</td>\n",
       "    </tr>\n",
       "    <tr>\n",
       "      <th>1818</th>\n",
       "      <td>Season_6</td>\n",
       "      <td>Schlubby Guy</td>\n",
       "    </tr>\n",
       "    <tr>\n",
       "      <th>1819</th>\n",
       "      <td>Season_6</td>\n",
       "      <td>Hot Chick Cop</td>\n",
       "    </tr>\n",
       "  </tbody>\n",
       "</table>\n",
       "</div>"
      ],
      "text/plain": [
       "        Season           Characters\n",
       "1815  Season_6  Face Bandage Inmate\n",
       "1816  Season_6       Squinty Inmate\n",
       "1817  Season_6        Bakery Inmate\n",
       "1818  Season_6         Schlubby Guy\n",
       "1819  Season_6        Hot Chick Cop"
      ]
     },
     "execution_count": 53,
     "metadata": {},
     "output_type": "execute_result"
    }
   ],
   "source": [
    "character_df1.to_csv('data/character_df1_cleaned.csv', index = False)\n",
    "character_df1.tail()"
   ]
  },
  {
   "cell_type": "code",
   "execution_count": null,
   "id": "3610ff1f",
   "metadata": {},
   "outputs": [],
   "source": []
  }
 ],
 "metadata": {
  "kernelspec": {
   "display_name": "Python 3 (ipykernel)",
   "language": "python",
   "name": "python3"
  },
  "language_info": {
   "codemirror_mode": {
    "name": "ipython",
    "version": 3
   },
   "file_extension": ".py",
   "mimetype": "text/x-python",
   "name": "python",
   "nbconvert_exporter": "python",
   "pygments_lexer": "ipython3",
   "version": "3.11.5"
  }
 },
 "nbformat": 4,
 "nbformat_minor": 5
}
